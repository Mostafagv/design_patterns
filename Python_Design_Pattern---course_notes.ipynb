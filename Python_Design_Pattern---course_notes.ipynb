{
 "cells": [
  {
   "cell_type": "markdown",
   "metadata": {},
   "source": [
    "Ref:<br>\n",
    "    [1] Python: Design Patterns, LinkedIn Learning"
   ]
  },
  {
   "cell_type": "markdown",
   "metadata": {},
   "source": [
    "## Introduction"
   ]
  },
  {
   "cell_type": "markdown",
   "metadata": {},
   "source": [
    "Design pattern types:\n",
    "- Creational:\n",
    " - use to create objects systematicaly\n",
    " - benefit: flexibility\n",
    " - polymorphism\n",
    "- Structural\n",
    " - use: establish relationship between components\n",
    " - inheritance\n",
    "- Behavioral\n",
    " - use: object interact with each other\n",
    " - focus: protocols\n",
    " - methods\n",
    " \n",
    " \n",
    "OOP\n",
    "Class defines objects using \n",
    " - attributes: Property of entity. current state\n",
    " - behaviors: methods\n",
    " \n",
    "Inheritance: relationship between classes and childs <br>\n",
    "polymorphism: relies on inheritance and allows child classes to be instantialed and treated as the same type as their parent\n"
   ]
  },
  {
   "cell_type": "markdown",
   "metadata": {},
   "source": [
    "pattern context: scenario in which we choose to use a pattern\n",
    "- participants: classes involved to form a design pattern\n",
    "- Quality Attributes: Non-functional requirements (usabilty, reliability ...)\n",
    "- Forces: trade-offs (quality attributes create forces)\n",
    "- Consequences:\n"
   ]
  },
  {
   "cell_type": "markdown",
   "metadata": {},
   "source": [
    "## Creational Pattern"
   ]
  },
  {
   "cell_type": "markdown",
   "metadata": {},
   "source": [
    "### Factory\n",
    "Object creating other objects <br>\n",
    "not sure which type of object (class) we need at runtime <br>"
   ]
  },
  {
   "cell_type": "code",
   "execution_count": 2,
   "metadata": {},
   "outputs": [
    {
     "name": "stdout",
     "output_type": "stream",
     "text": [
      "woof!\n",
      "meow!\n"
     ]
    }
   ],
   "source": [
    "class Dog:\n",
    "    def __init__(self, name):\n",
    "        self._name = name\n",
    "    def speak(self):\n",
    "        return \"woof!\"\n",
    "class Cat:\n",
    "    def __init__(self, name):\n",
    "        self._name = name\n",
    "    def speak(self):\n",
    "        return \"meow!\"\n",
    "\n",
    "    \n",
    "def get_pet(pet=\"dog\"):\n",
    "    \"\"\"\n",
    "    Factory method\n",
    "    \"\"\"\n",
    "    pets = dict(dog=Dog(\"Goli\"), cat=Cat(\"Lili\"))\n",
    "    return pets[pet]\n",
    "\n",
    "d = get_pet(\"dog\")\n",
    "print(d.speak())\n",
    "c = get_pet(\"cat\")\n",
    "print(c.speak())"
   ]
  },
  {
   "cell_type": "markdown",
   "metadata": {},
   "source": [
    "### Abstract Factory\n",
    "User expectation yields **multiple, related** objects but does not know which family it is until runtime\n",
    "\n",
    "elements:\n",
    "- abstract factory: pet factory\n",
    "- concrete factory: dog factory and cat factory (mostly singleton)\n",
    "- abstract product: \n",
    "- concrete product: dog and dog food, cat and cat food\n",
    "\n",
    "in python we implement abstract factory without inheritance, because python is dynamically typed language"
   ]
  },
  {
   "cell_type": "code",
   "execution_count": 3,
   "metadata": {},
   "outputs": [
    {
     "name": "stdout",
     "output_type": "stream",
     "text": [
      "Our pet is Dog\n",
      "Our pet says woof!\n",
      "Our pet eats Dog Food!\n"
     ]
    }
   ],
   "source": [
    "class Dog:\n",
    "    \"\"\"\n",
    "    one of the objects to be returned\n",
    "    \"\"\"\n",
    "    def speak(self):\n",
    "        return \"woof!\"\n",
    "    def __str__(self):\n",
    "        return \"Dog\"\n",
    "    \n",
    "class DogFactory:\n",
    "    \"\"\"\n",
    "    concrete factory \n",
    "    \"\"\"\n",
    "    def get_pet(self):\n",
    "        \"\"\"returns dog object (concrete product)\"\"\"\n",
    "        return Dog()\n",
    "    def get_food(self):\n",
    "        \"\"\"returns dog food object (concrete product)\"\"\"\n",
    "        return \"Dog Food!\"\n",
    "class PetStore:\n",
    "    \"\"\"Our Abstract Factory\"\"\"\n",
    "    def __init__(self, pet_factory=None):\n",
    "        self._pet_factory = pet_factory\n",
    "    def show_pet(self):\n",
    "        pet = self._pet_factory.get_pet()\n",
    "        pet_food = self._pet_factory.get_food()\n",
    "        \n",
    "        print(f\"Our pet is {pet}\")\n",
    "        print(f\"Our pet says {pet.speak()}\")\n",
    "        print(f\"Our pet eats {pet_food}\")\n",
    "#\n",
    "# create a concrete factory\n",
    "factory = DogFactory()\n",
    "\n",
    "# Abstract factory -> gets a concrete factory\n",
    "shop = PetStore(factory)\n",
    "\n",
    "# Invoke utility methods\n",
    "shop.show_pet()"
   ]
  },
  {
   "cell_type": "markdown",
   "metadata": {},
   "source": [
    "### Singleton\n",
    "Allow only one object to be created from a class. <br>\n",
    "It is object oriented way of defining globals <br>\n",
    "example usage: cache information and use among objects. <br>\n",
    "\n",
    "singleton uses inheritance <br>\n",
    "shares an attribute among all instances <br>\n"
   ]
  },
  {
   "cell_type": "code",
   "execution_count": 4,
   "metadata": {},
   "outputs": [
    {
     "name": "stdout",
     "output_type": "stream",
     "text": [
      "{'HTTP': 'Hyper Text Transfer Protocol'}\n",
      "{'HTTP': 'Hyper Text Transfer Protocol', 'SNMP': 'Simple Network Management Protocol'}\n",
      "{'HTTP': 'Hyper Text Transfer Protocol', 'SNMP': 'Simple Network Management Protocol'}\n"
     ]
    }
   ],
   "source": [
    "class Borg:\n",
    "    \"\"\"Borg design pattern\"\"\"\n",
    "    _shared_data = {} # Attribute dictionary\n",
    "    def __init__(self):\n",
    "        self.__dict__ = self._shared_data # makes _shared_data attribute dict\n",
    "\n",
    "class Singleton(Borg):\n",
    "    \"\"\"Singleton Class\"\"\"\n",
    "    def __init__(self, **kwargs):\n",
    "        Borg.__init__(self)\n",
    "        self._shared_data.update(kwargs)\n",
    "    def __str__(self):\n",
    "        return str(self._shared_data)\n",
    "    \n",
    "# create a singleton object\n",
    "x = Singleton(HTTP=\"Hyper Text Transfer Protocol\")\n",
    "# print object\n",
    "print(x)\n",
    "\n",
    "#\n",
    "y = Singleton(SNMP=\"Simple Network Management Protocol\")\n",
    "print(y)\n",
    "print(x)\n"
   ]
  },
  {
   "cell_type": "markdown",
   "metadata": {},
   "source": [
    "### Builder\n",
    "\n",
    "solution to anti-pattern called telescoping constructor (build using exessive number of constructors). <br>\n",
    "use partitions:\n",
    "- director: in charge of building the product\n",
    "- abstract builder: create all required interfaces required in buidling an object\n",
    "- concrete builder: inherits from the abstract builder and implements the interface for a specific type of product\n",
    "- product: is the object being built\n",
    "\n",
    "Builder patter does not rely on polymorphism."
   ]
  },
  {
   "cell_type": "code",
   "execution_count": 6,
   "metadata": {},
   "outputs": [
    {
     "name": "stdout",
     "output_type": "stream",
     "text": [
      "skylark | regular tire | turbo\n"
     ]
    }
   ],
   "source": [
    "class Director():\n",
    "    \"\"\"Director\"\"\"\n",
    "    def __init__(self, builder):\n",
    "        self._builder = builder\n",
    "        \n",
    "    def construct_car(self):\n",
    "        self._builder.create_new_car()\n",
    "        self._builder.add_model()\n",
    "        self._builder.add_tires()\n",
    "        self._builder.add_engine()\n",
    "    def get_car(self):\n",
    "        return self._builder.car\n",
    "\n",
    "class Car():\n",
    "    \"\"\"Product\"\"\"\n",
    "    def __init__(self):\n",
    "        self.model =None\n",
    "        self.tires = None\n",
    "        self.engine = None\n",
    "    def __str__(self):\n",
    "        return f'{self.model} | {self.tires} | {self.engine}'\n",
    "    \n",
    "\n",
    "class Builder():\n",
    "    \"\"\"Abstract Builder\"\"\"\n",
    "    def __init__(self):\n",
    "        self.car = None\n",
    "    def create_new_car(self):\n",
    "        self.car = Car()\n",
    "\n",
    "class SkyLarkBuilder(Builder):\n",
    "    \"\"\"Concrete Builder\"\"\"\n",
    "    def add_model(self):\n",
    "        self.car.model = \"skylark\"\n",
    "    def add_tires(self):\n",
    "        self.car.tires = \"regular tire\"\n",
    "    def add_engine(self):\n",
    "        self.car.engine = \"turbo\"\n",
    "        \n",
    "builder = SkyLarkBuilder()\n",
    "director = Director(builder)\n",
    "director.construct_car()\n",
    "print(director.get_car())"
   ]
  },
  {
   "cell_type": "markdown",
   "metadata": {},
   "source": [
    "### Prototype\n",
    "\n",
    "we are talking about copying instead of creating. Creating many identical object is expensive but cloning makes it less expensive. <br>\n",
    "steps:\n",
    "- create a prototypical instance\n",
    "- clone it when need a replica\n",
    "\n",
    "abstract factory is related to this pattern"
   ]
  },
  {
   "cell_type": "code",
   "execution_count": 42,
   "metadata": {},
   "outputs": [
    {
     "name": "stdout",
     "output_type": "stream",
     "text": [
      "Skylark | Red | Ex\n",
      "Skylark | Red | Ex\n",
      "Skylark | black | Ex\n"
     ]
    }
   ],
   "source": [
    "import copy\n",
    "\n",
    "class Prototype:\n",
    "    \n",
    "    def __init__(self):\n",
    "        # creat a dict to be cloned\n",
    "        self._objects = {}\n",
    "        \n",
    "    def register_object(self, name, obj):\n",
    "        \"\"\"Register an object\"\"\"\n",
    "        self._objects[name] = obj\n",
    "        \n",
    "    def unregister_object(self, name):\n",
    "        \"\"\"Unregister an object\"\"\"\n",
    "        del self._objects[name]\n",
    "        \n",
    "        \n",
    "    def clone(self, name, **attr):\n",
    "        \"\"\"Clone a registered object and update its attributes\"\"\"\n",
    "        obj = copy.deepcopy(self._objects.get(name))\n",
    "        obj.__dict__.update(attr)\n",
    "        return obj\n",
    "        \n",
    "        \n",
    "class Car:\n",
    "    def __init__(self):\n",
    "        self.name = \"Skylark\"\n",
    "        self.color = \"Red\"\n",
    "        self.options = \"Ex\"\n",
    "        \n",
    "    def __str__(self):\n",
    "        return '{} | {} | {}'.format(self.name, self.color, self.options)\n",
    "        \n",
    "c = Car()\n",
    "print(c)\n",
    "p = Prototype()\n",
    "p.register_object('skylark',c)\n",
    "c1=p.clone('skylark')\n",
    "print(c1)\n",
    "c2=p.clone('skylark', color='black')\n",
    "print(c2)"
   ]
  },
  {
   "cell_type": "markdown",
   "metadata": {},
   "source": [
    "## Structural Patterns"
   ]
  },
  {
   "cell_type": "markdown",
   "metadata": {},
   "source": [
    "### Decorator\n",
    "allows users to add new features to existing object without changing the object"
   ]
  },
  {
   "cell_type": "code",
   "execution_count": 43,
   "metadata": {},
   "outputs": [
    {
     "name": "stdout",
     "output_type": "stream",
     "text": [
      "<blink>Hello, World!</blink>\n",
      "hello_world\n",
      "Original function! \n"
     ]
    }
   ],
   "source": [
    "from functools import wraps\n",
    "\n",
    "def make_blink(function):\n",
    "    \"\"\"Defines the decorator\"\"\"\n",
    "    #This makes the decorator transparent in terms of its name and docstring\n",
    "    @wraps(function)\n",
    "    \n",
    "    #Define the inner function\n",
    "    def decorator():\n",
    "        # Grab the return value of the function being decorated\n",
    "        ret = function()\n",
    "        \n",
    "        # Add new functionality to the function being decorated\n",
    "        return \"<blink>\" + ret + \"</blink>\"\n",
    "    return decorator\n",
    "\n",
    "#Apply the decorator here!\n",
    "@make_blink\n",
    "def hello_world():\n",
    "    \"\"\"Original function! \"\"\"\n",
    "\n",
    "    return \"Hello, World!\"\n",
    "\n",
    "#Check the result of decorating\n",
    "print(hello_world())\n",
    "\n",
    "#Check if the function name is still the same name of the function being decorated\n",
    "print(hello_world.__name__)\n",
    "\n",
    "#Check if the docstring is still the same as that of the function being decorated\n",
    "print(hello_world.__doc__)\n"
   ]
  },
  {
   "cell_type": "markdown",
   "metadata": {},
   "source": [
    "### Proxy\n",
    "Is used to postpone the **object creation** as late as possible because it requires high resources. <br>\n",
    "so we need a placeholder, and create the object when it is absoloutly necessary "
   ]
  },
  {
   "cell_type": "code",
   "execution_count": 44,
   "metadata": {},
   "outputs": [
    {
     "name": "stdout",
     "output_type": "stream",
     "text": [
      "Artist checking if Producer is available ...\n",
      "Producer has time to meet you now!\n",
      "Artist checking if Producer is available ...\n",
      "Producer is busy!\n"
     ]
    }
   ],
   "source": [
    "import time\n",
    "\n",
    "class Producer:\n",
    "    \"\"\"Define the 'resource-intensive' object to instantiate!\"\"\"\n",
    "    def produce(self):\n",
    "        print(\"Producer is working hard!\")\n",
    "\n",
    "    def meet(self):\n",
    "        print(\"Producer has time to meet you now!\")\n",
    "\n",
    "class Proxy:\n",
    "    \"\"\"\"Define the 'relatively less resource-intensive' proxy to instantiate as a middleman\"\"\"\n",
    "    def __init__(self):  \n",
    "        self.occupied = 'No'\n",
    "        self.producer = None\n",
    "    \n",
    "    def produce(self):\n",
    "        \"\"\"Check if Producer is available\"\"\"\n",
    "        print(\"Artist checking if Producer is available ...\")\n",
    "\n",
    "        if self.occupied == 'No':\n",
    "            #If the producer is available, create a producer object!\n",
    "            self.producer = Producer()\n",
    "            time.sleep(2)\n",
    "\n",
    "\n",
    "            #Make the prodcuer meet the guest!\n",
    "            self.producer.meet()\n",
    "\n",
    "        else:\n",
    "            #Otherwise, don't instantiate a producer \n",
    "            time.sleep(2)\n",
    "            print(\"Producer is busy!\")\n",
    "\n",
    "#Instantiate a Proxy\n",
    "p = Proxy()\n",
    "#Make the proxy: Artist produce until Producer is available\n",
    "p.produce()\n",
    "\n",
    "#Change the state to 'occupied'\n",
    "p.occupied = 'Yes'\n",
    "\n",
    "#Make the Producer produce\n",
    "p.produce()\n"
   ]
  },
  {
   "cell_type": "markdown",
   "metadata": {},
   "source": [
    "### Adapter\n",
    "converts the interface of a class into another one a client is expecting <br>\n",
    "bridges and decorators are related to adapter pattern <br>"
   ]
  },
  {
   "cell_type": "code",
   "execution_count": 46,
   "metadata": {},
   "outputs": [
    {
     "name": "stdout",
     "output_type": "stream",
     "text": [
      "Korean says 'An-neyong?'\n",
      "\n",
      "British says 'Hello!'\n",
      "\n"
     ]
    }
   ],
   "source": [
    "class Korean:\n",
    "    \"\"\"Korean speaker\"\"\"\n",
    "    def __init__(self):\n",
    "        self.name = \"Korean\"\n",
    "\n",
    "    def speak_korean(self):\n",
    "        return \"An-neyong?\"\n",
    "\n",
    "class British:\n",
    "    \"\"\"English speaker\"\"\"\n",
    "    def __init__(self):\n",
    "        self.name = \"British\"\n",
    "\n",
    "    #Note the different method name here!\n",
    "    def speak_english(self):\n",
    "        return \"Hello!\"\n",
    "\n",
    "class Adapter:\n",
    "    \"\"\"This changes the generic method name to individualized method names\"\"\"\n",
    "\n",
    "    def __init__(self, object, **adapted_method):\n",
    "        \"\"\"Change the name of the method\"\"\"\n",
    "        self._object = object\n",
    "\n",
    "        #Add a new dictionary item that establishes the mapping between the generic method name: speak() and the concrete method\n",
    "        #For example, speak() will be translated to speak_korean() if the mapping says so\n",
    "        self.__dict__.update(adapted_method)\n",
    "\n",
    "    def __getattr__(self, attr):\n",
    "        \"\"\"Simply return the rest of attributes!\"\"\"\n",
    "        return getattr(self._object, attr)\n",
    "\n",
    "#List to store speaker objects\n",
    "objects = []\n",
    "\n",
    "#Create a Korean object\n",
    "korean = Korean()\n",
    "\n",
    "#Create a British object\n",
    "british = British()\n",
    "\n",
    "#Append the objects to the objects list\n",
    "objects.append(Adapter(korean, speak=korean.speak_korean))\n",
    "objects.append(Adapter(british, speak=british.speak_english))\n",
    "\n",
    "\n",
    "for obj in objects:\n",
    "    print(\"{} says '{}'\\n\".format(obj.name, obj.speak()))\n"
   ]
  },
  {
   "cell_type": "markdown",
   "metadata": {},
   "source": [
    "### Composite\n",
    "a tree structure is used to represent part-whole relationship <br>\n",
    "elements:\n",
    "- Component\n",
    "- Child\n",
    "- Composite"
   ]
  },
  {
   "cell_type": "code",
   "execution_count": 48,
   "metadata": {},
   "outputs": [
    {
     "name": "stdout",
     "output_type": "stream",
     "text": [
      "top_menu\n",
      "submenu1\n",
      "sub_submenu 11\n",
      "sub_submenu 12\n",
      "submenu2\n"
     ]
    }
   ],
   "source": [
    "class Component(object):\n",
    "    \"\"\"\n",
    "    Abstract class\n",
    "    here we define our interface method\n",
    "    \"\"\"\n",
    "    \n",
    "\n",
    "    def __init__(self, *args, **kwargs):\n",
    "        pass\n",
    "\n",
    "    def component_function(self):\n",
    "        pass\n",
    "\n",
    "class Child(Component): #Inherits from the abstract class, Component\n",
    "    \"\"\"Concrete class\"\"\"\n",
    "\n",
    "    def __init__(self, *args, **kwargs):\n",
    "        Component.__init__(self, *args, **kwargs)\n",
    "\n",
    "        #This is where we store the name of your child item!\n",
    "        self.name = args[0]\n",
    "\n",
    "    def component_function(self):\n",
    "        #Print the name of your child item here!\n",
    "        print(\"{}\".format(self.name))\n",
    "\n",
    "class Composite(Component): #Inherits from the abstract class, Component\n",
    "    \"\"\"Concrete class and maintains the tree recursive structure\"\"\"\n",
    "\n",
    "    def __init__(self, *args, **kwargs):\n",
    "        Component.__init__(self, *args, **kwargs)\n",
    "\n",
    "        #This is where we store the name of the composite object\n",
    "        self.name = args[0]\n",
    "\n",
    "        #This is where we keep our child items\n",
    "        self.children = []\n",
    "\n",
    "    def append_child(self, child):\n",
    "        \"\"\"Method to add a new child item\"\"\"\n",
    "        self.children.append(child)\n",
    "\n",
    "    def remove_child(self, child):\n",
    "        \"\"\"Method to remove a child item\"\"\"\n",
    "        self.children.remove(child)\n",
    "\n",
    "    def component_function(self):\n",
    "\n",
    "        #Print the name of the composite object\n",
    "        print(\"{}\".format(self.name))\n",
    "\n",
    "        #Iterate through the child objects and invoke their\n",
    "        # component function printing their names\n",
    "        for i in self.children:\n",
    "            i.component_function()\n",
    "\n",
    "#Build a composite submenu 1\n",
    "sub1 = Composite(\"submenu1\")\n",
    "\n",
    "#Create a new child sub_submenu 11\n",
    "sub11 = Child(\"sub_submenu 11\")\n",
    "#Create a new Child sub_submenu 12\n",
    "sub12 = Child(\"sub_submenu 12\")\n",
    "\n",
    "#Add the sub_submenu 11 to submenu 1\n",
    "sub1.append_child(sub11)\n",
    "#Add the sub_submenu 12 to submenu 1\n",
    "sub1.append_child(sub12)\n",
    "\n",
    "#Build a top-level composite menu\n",
    "top = Composite(\"top_menu\")\n",
    "\n",
    "#Build a submenu 2 that is not a composite\n",
    "sub2 = Child(\"submenu2\")\n",
    "\n",
    "#Add the composite submenu 1 to the top-level composite menu\n",
    "top.append_child(sub1)\n",
    "#Add the plain submenu 2 to the top-level composite menu\n",
    "top.append_child(sub2)\n",
    "\n",
    "#Let's test if our Composite pattern works!\n",
    "top.component_function()\n"
   ]
  },
  {
   "cell_type": "markdown",
   "metadata": {},
   "source": [
    "### Bridge\n",
    "problem:\n",
    "- unrelated, parallel or orthogonal abstraction\n",
    "- one is implementation specific and one is implementation independent\n",
    "\n",
    "abstract factory and adapter are related to this pattern"
   ]
  },
  {
   "cell_type": "code",
   "execution_count": 49,
   "metadata": {},
   "outputs": [
    {
     "name": "stdout",
     "output_type": "stream",
     "text": [
      "API 1 drawing a circle at (1, 2 with radius 3!)\n",
      "API 2 drawing a circle at (2, 3 with radius 4!)\n"
     ]
    }
   ],
   "source": [
    "class DrawingAPIOne(object):\n",
    "\t\"\"\"Implementation-specific abstraction: concrete class one\"\"\"\n",
    "\tdef draw_circle(self, x, y, radius):\n",
    "\t\tprint(\"API 1 drawing a circle at ({}, {} with radius {}!)\".format(x, y, radius))\n",
    "\n",
    "\n",
    "class DrawingAPITwo(object):\n",
    "\t\"\"\"Implementation-specific abstraction: concrete class two\"\"\"\n",
    "\tdef draw_circle(self, x, y, radius):\n",
    "\t\tprint(\"API 2 drawing a circle at ({}, {} with radius {}!)\".format(x, y, radius))\n",
    "\n",
    "class Circle(object):\n",
    "\t\"\"\"Implementation-independent abstraction: for example, there could be a rectangle class!\"\"\"\n",
    "\n",
    "\tdef __init__(self, x, y, radius, drawing_api):\n",
    "\t\t\"\"\"Initialize the necessary attributes\"\"\"\n",
    "\t\tself._x = x\n",
    "\t\tself._y = y\n",
    "\t\tself._radius = radius\n",
    "\t\tself._drawing_api = drawing_api\n",
    "\n",
    "\tdef draw(self):\n",
    "\t\t\"\"\"Implementation-specific abstraction taken care of by another class: DrawingAPI\"\"\"\n",
    "\t\tself._drawing_api.draw_circle(self._x, self._y, self._radius)\n",
    "\n",
    "\tdef scale(self, percent):\n",
    "\t\t\"\"\"Implementation-independent\"\"\"\n",
    "\t\tself._radius *= percent\n",
    "\n",
    "\n",
    "#Build the first Circle object using API One\n",
    "circle1 = Circle(1, 2, 3, DrawingAPIOne())\n",
    "#Draw a circle\n",
    "circle1.draw()\n",
    "\n",
    "#Build the second Circle object using API Two\n",
    "circle2 = Circle(2, 3, 4, DrawingAPITwo())\n",
    "#Draw a circle\n",
    "circle2.draw()\n",
    "\n"
   ]
  },
  {
   "cell_type": "markdown",
   "metadata": {},
   "source": [
    "## Behavioral Patterns"
   ]
  },
  {
   "cell_type": "markdown",
   "metadata": {},
   "source": [
    "### Observer\n",
    "Establish one to many between a subject and multiple observers<br>\n",
    "subject needs to be monitored and another need to be notified if the subject is modified\n",
    "\n",
    "Solution:\n",
    "- Subject: allows attach, detach and notify observer\n",
    "- Conceret subject: inherit from abstract subject\n",
    "\n",
    "singleton is related"
   ]
  },
  {
   "cell_type": "code",
   "execution_count": 51,
   "metadata": {},
   "outputs": [
    {
     "name": "stdout",
     "output_type": "stream",
     "text": [
      "Temperature Viewer: Core 1 has Temperature 80\n",
      "Temperature Viewer: Core 1 has Temperature 80\n",
      "Temperature Viewer: Core 1 has Temperature 90\n",
      "Temperature Viewer: Core 1 has Temperature 90\n"
     ]
    }
   ],
   "source": [
    "class Subject(object): #Represents what is being 'observed'\n",
    "\n",
    "    def __init__(self):\n",
    "        self._observers = [] # This where references to all the observers are being kept\n",
    "                             # Note that this is a one-to-many relationship: there will be one subject to be observed by multiple _observers\n",
    "\n",
    "    def attach(self, observer):\n",
    "        if observer not in self._observers: #If the observer is not already in the observers list\n",
    "            self._observers.append(observer) # append the observer to the list\n",
    "\n",
    "    def detach(self, observer): #Simply remove the observer\n",
    "        try:\n",
    "            self._observers.remove(observer)\n",
    "        except ValueError:\n",
    "            pass\n",
    "\n",
    "    def notify(self, modifier=None):\n",
    "        for observer in self._observers: # For all the observers in the list\n",
    "            if modifier != observer: # Don't notify the observer who is actually updating the temperature \n",
    "                observer.update(self) # Alert the observers!\n",
    "\n",
    "class Core(Subject): #Inherits from the Subject class\n",
    "\n",
    "    def __init__(self, name=\"\"):\n",
    "        Subject.__init__(self)\n",
    "        self._name = name #Set the name of the core\n",
    "        self._temp = 0 #Initialize the temperature of the core\n",
    "\n",
    "    @property #Getter that gets the core temperature\n",
    "    def temp(self):\n",
    "        return self._temp\n",
    "\n",
    "    @temp.setter #Setter that sets the core temperature\n",
    "    def temp(self, temp):\n",
    "        self._temp = temp\n",
    "        self.notify() #Notify the observers whenever somebody changes the core temperature\n",
    "\n",
    "class TempViewer:\n",
    "\n",
    "    def update(self, subject): #Alert method that is invoked when the notify() method in a concrete subject is invoked\n",
    "        print(\"Temperature Viewer: {} has Temperature {}\".format(subject._name, subject._temp))\n",
    "\n",
    "#Let's create our subjects\n",
    "c1 = Core(\"Core 1\")\n",
    "c2 = Core(\"Core 2\")\n",
    "\n",
    "#Let's create our observers\n",
    "v1 = TempViewer()\n",
    "v2 = TempViewer()\n",
    "\n",
    "#Let's attach our observers to the first core\n",
    "c1.attach(v1)\n",
    "c1.attach(v2)\n",
    "\n",
    "#Let's change the temperature of our first core\n",
    "c1.temp = 80\n",
    "c1.temp = 90\n"
   ]
  },
  {
   "cell_type": "markdown",
   "metadata": {},
   "source": [
    "### Visitor\n",
    "add new feature to a class hierarchy with minimal changes"
   ]
  },
  {
   "cell_type": "code",
   "execution_count": 52,
   "metadata": {},
   "outputs": [
    {
     "name": "stdout",
     "output_type": "stream",
     "text": [
      "House worked on by HvacSpecialist\n",
      "House worked on by Electrician\n"
     ]
    }
   ],
   "source": [
    "class House(object): #The class being visited \n",
    "    def accept(self, visitor):\n",
    "        \"\"\"Interface to accept a visitor\"\"\"\n",
    "        visitor.visit(self) #Triggers the visiting operation!\n",
    "\n",
    "    def work_on_hvac(self, hvac_specialist):\n",
    "        print(self, \"worked on by\", hvac_specialist) #Note that we now have a reference to the HVAC specialist object in the house object!\n",
    "\n",
    "    def work_on_electricity(self, electrician):\n",
    "        print(self, \"worked on by\", electrician) #Note that we now have a reference to the electrician object in the house object!\n",
    "\n",
    "    def __str__(self):\n",
    "        \"\"\"Simply return the class name when the House object is printed\"\"\"\n",
    "        return self.__class__.__name__\n",
    "\n",
    "\n",
    "class Visitor(object):\n",
    "    \"\"\"Abstract visitor\"\"\"\n",
    "    def __str__(self):\n",
    "        \"\"\"Simply return the class name when the Visitor object is printed\"\"\"\n",
    "        return self.__class__.__name__\n",
    "\n",
    "\n",
    "class HvacSpecialist(Visitor): #Inherits from the parent class, Visitor\n",
    "    \"\"\"Concrete visitor: HVAC specialist\"\"\"\n",
    "    def visit(self, house):\n",
    "        house.work_on_hvac(self) #Note that the visitor now has a reference to the house object\n",
    "\n",
    "\n",
    "class Electrician(Visitor): #Inherits from the parent class, Visitor\n",
    "    \"\"\"Concrete visitor: electrician\"\"\"\n",
    "    def visit(self, house):\n",
    "        house.work_on_electricity(self) #Note that the visitor now has a reference to the house object\n",
    "\n",
    "#Create an HVAC specialist\n",
    "hv = HvacSpecialist()\n",
    "#Create an electrician\n",
    "e = Electrician()\n",
    "\n",
    "#Create a house\n",
    "home = House()\n",
    "\n",
    "#Let the house accept the HVAC specialist and work on the house by invoking the visit() method\n",
    "home.accept(hv)\n",
    "\n",
    "#Let the house accept the electrician and work on the house by invoking the visit() method\n",
    "home.accept(e)\n",
    "\n",
    "\n"
   ]
  },
  {
   "cell_type": "markdown",
   "metadata": {},
   "source": [
    "### Iterator\n",
    "related to composite design pattern"
   ]
  },
  {
   "cell_type": "code",
   "execution_count": 53,
   "metadata": {},
   "outputs": [
    {
     "name": "stdout",
     "output_type": "stream",
     "text": [
      "eins\n",
      "zwei\n",
      "drei\n",
      "eins\n",
      "zwei\n",
      "drei\n",
      "vier\n"
     ]
    }
   ],
   "source": [
    "def count_to(count):\n",
    "    \"\"\"Our iterator implementation\"\"\"\n",
    "     \n",
    "    #Our list\n",
    "    numbers_in_german = [\"eins\", \"zwei\", \"drei\", \"vier\", \"funf\"]\n",
    "\n",
    "    #Our built-in iterator\n",
    "    #Creates a tuple such as (1, \"eins\")\n",
    "    iterator = zip(range(count), numbers_in_german)\n",
    "     \n",
    "    #Iterate through our iterable list\n",
    "    #Extract the German numbers\n",
    "    #Put them in a generator called number\n",
    "    for position, number in iterator:\n",
    "         \n",
    "        #Returns a 'generator' containing numbers in German\n",
    "        yield number \n",
    "\n",
    "#Let's test the generator returned by our iterator\n",
    "for num in count_to(3):\n",
    "    print(\"{}\".format(num))\n",
    "\n",
    "for num in count_to(4):\n",
    "    print(\"{}\".format(num))\n",
    "     "
   ]
  },
  {
   "cell_type": "markdown",
   "metadata": {},
   "source": [
    "### Strategy\n",
    "need for dynamically changing behavior of a class <br>\n",
    "we need to use types module"
   ]
  },
  {
   "cell_type": "code",
   "execution_count": 54,
   "metadata": {},
   "outputs": [
    {
     "name": "stdout",
     "output_type": "stream",
     "text": [
      "Default Strategy is used!\n",
      "Strategy One is used to execute method 1\n",
      "Strategy Two is used to execute method 2\n"
     ]
    }
   ],
   "source": [
    "import types #Import the types module\n",
    "\n",
    "class Strategy:\n",
    "    \"\"\"The Strategy Pattern class\"\"\"\n",
    "    \n",
    "    def __init__(self, function=None):\n",
    "        self.name = \"Default Strategy\"\n",
    "        \n",
    "        #If a reference to a function is provided, replace the execute() method with the given function\n",
    "        if function:\n",
    "            self.execute = types.MethodType(function, self)\n",
    "            \n",
    "    def execute(self): #This gets replaced by another version if another strategy is provided.\n",
    "        \"\"\"The defaut method that prints the name of the strategy being used\"\"\"\n",
    "        print(\"{} is used!\".format(self.name))\n",
    "\n",
    "#Replacement method 1\n",
    "def strategy_one(self):\n",
    "    print(\"{} is used to execute method 1\".format(self.name))\n",
    "\n",
    "#Replacement method 2    \n",
    "def strategy_two(self):\n",
    "    print(\"{} is used to execute method 2\".format(self.name))\n",
    "    \n",
    "#Let's create our default strategy\n",
    "s0 = Strategy()\n",
    "#Let's execute our default strategy\n",
    "s0.execute()\n",
    "\n",
    "#Let's create the first varition of our default strategy by providing a new behavior\n",
    "s1 = Strategy(strategy_one)\n",
    "#Let's set its name\n",
    "s1.name = \"Strategy One\"\n",
    "#Let's execute the strategy\n",
    "s1.execute()\n",
    "\n",
    "s2 = Strategy(strategy_two)\n",
    "s2.name = \"Strategy Two\"\n",
    "s2.execute()\n"
   ]
  },
  {
   "cell_type": "markdown",
   "metadata": {},
   "source": [
    "### Chain of Responsibility\n",
    "decouples request from its processing\n",
    "solution:\n",
    "- abstract handler: stores a successor that will handle a request if the current handler doesn't handle it. \n",
    "- concrete handler: Concrete handlers check if they can handle the request. If they can, they handle it and return a true value, indicating that the request was handled.\n",
    "\n",
    "Composite is related to the chain of responsibility, design pattern."
   ]
  },
  {
   "cell_type": "code",
   "execution_count": 56,
   "metadata": {},
   "outputs": [
    {
     "name": "stdout",
     "output_type": "stream",
     "text": [
      "Request 2 handled in handler 1\n",
      "Request 5 handled in handler 1\n",
      "End of chain, no handler for 30\n"
     ]
    }
   ],
   "source": [
    "class Handler: #Abstract handler\n",
    "    \"\"\"Abstract Handler\"\"\"\n",
    "    def __init__(self, successor):\n",
    "        self._successor = successor # Define who is the next handler\n",
    "\n",
    "    def handle(self, request):\n",
    "            handled = self._handle(request) #If handled, stop here\n",
    "\n",
    "            #Otherwise, keep going\n",
    "            if not handled:\n",
    "                self._successor.handle(request)    \n",
    "\n",
    "    def _handle(self, request):\n",
    "        raise NotImplementedError('Must provide implementation in subclass!')\n",
    "\n",
    "class ConcreteHandler1(Handler): # Inherits from the abstract handler\n",
    "    \"\"\"Concrete handler 1\"\"\"\n",
    "    def _handle(self, request):\n",
    "        if 0 < request <= 10: # Provide a condition for handling\n",
    "            print(\"Request {} handled in handler 1\".format(request))\n",
    "            return True # Indicates that the request has been handled\n",
    "\n",
    "class DefaultHandler(Handler): # Inherits from the abstract handler\n",
    "    \"\"\"Default handler\"\"\"\n",
    "\n",
    "    def _handle(self, request):\n",
    "        \"\"\"If there is no handler available\"\"\"\n",
    "        #No condition checking since this is a default handler\n",
    "        print(\"End of chain, no handler for {}\".format(request))\n",
    "        return True # Indicates that the request has been handled\n",
    "\n",
    "class Client: # Using handlers\n",
    "    def __init__(self):\n",
    "        self.handler = ConcreteHandler1(DefaultHandler(None)) # Create handlers and use them in a sequence you want\n",
    "                                                              # Note that the default handler has no successor\n",
    "\n",
    "    def delegate(self, requests): # Send your requests one at a time for handlers to handle\n",
    "        for request in requests:\n",
    "                self.handler.handle(request)\n",
    "\n",
    "# Create a client\n",
    "c = Client()\n",
    "\n",
    "# Create requests\n",
    "requests = [2, 5, 30]\n",
    "\n",
    "# Send the requests\n",
    "c.delegate(requests)\n",
    "\n"
   ]
  },
  {
   "cell_type": "code",
   "execution_count": null,
   "metadata": {},
   "outputs": [],
   "source": []
  }
 ],
 "metadata": {
  "kernelspec": {
   "display_name": "Python 3",
   "language": "python",
   "name": "python3"
  },
  "language_info": {
   "codemirror_mode": {
    "name": "ipython",
    "version": 3
   },
   "file_extension": ".py",
   "mimetype": "text/x-python",
   "name": "python",
   "nbconvert_exporter": "python",
   "pygments_lexer": "ipython3",
   "version": "3.8.3"
  }
 },
 "nbformat": 4,
 "nbformat_minor": 4
}
